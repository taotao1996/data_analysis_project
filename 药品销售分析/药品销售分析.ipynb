{
 "cells": [
  {
   "cell_type": "markdown",
   "metadata": {},
   "source": [
    "# 药品销售分析"
   ]
  },
  {
   "cell_type": "code",
   "execution_count": 50,
   "metadata": {},
   "outputs": [],
   "source": [
    "import pandas as pd\n",
    "from matplotlib import pyplot as plt\n",
    "\n",
    "# 绘图中设置中文字体\n",
    "from matplotlib import font_manager\n",
    "my_font = font_manager.FontProperties(fname=\"C:/Windows/Fonts/simsun.ttc\")"
   ]
  },
  {
   "cell_type": "code",
   "execution_count": 5,
   "metadata": {},
   "outputs": [],
   "source": [
    "file_path = \".\\某医院2018年药品销售数据.xlsx\"\n",
    "df = pd.read_excel(file_path)"
   ]
  },
  {
   "cell_type": "markdown",
   "metadata": {},
   "source": [
    "## 1. 查看数据"
   ]
  },
  {
   "cell_type": "code",
   "execution_count": 6,
   "metadata": {},
   "outputs": [
    {
     "data": {
      "text/html": [
       "<div>\n",
       "<style scoped>\n",
       "    .dataframe tbody tr th:only-of-type {\n",
       "        vertical-align: middle;\n",
       "    }\n",
       "\n",
       "    .dataframe tbody tr th {\n",
       "        vertical-align: top;\n",
       "    }\n",
       "\n",
       "    .dataframe thead th {\n",
       "        text-align: right;\n",
       "    }\n",
       "</style>\n",
       "<table border=\"1\" class=\"dataframe\">\n",
       "  <thead>\n",
       "    <tr style=\"text-align: right;\">\n",
       "      <th></th>\n",
       "      <th>购药时间</th>\n",
       "      <th>社保卡号</th>\n",
       "      <th>商品编码</th>\n",
       "      <th>商品名称</th>\n",
       "      <th>销售数量</th>\n",
       "      <th>应收金额</th>\n",
       "      <th>实收金额</th>\n",
       "    </tr>\n",
       "  </thead>\n",
       "  <tbody>\n",
       "    <tr>\n",
       "      <th>0</th>\n",
       "      <td>2018-01-01 星期五</td>\n",
       "      <td>1.616528e+06</td>\n",
       "      <td>236701.0</td>\n",
       "      <td>强力VC银翘片</td>\n",
       "      <td>6.0</td>\n",
       "      <td>82.8</td>\n",
       "      <td>69.00</td>\n",
       "    </tr>\n",
       "    <tr>\n",
       "      <th>1</th>\n",
       "      <td>2018-01-02 星期六</td>\n",
       "      <td>1.616528e+06</td>\n",
       "      <td>236701.0</td>\n",
       "      <td>清热解毒口服液</td>\n",
       "      <td>1.0</td>\n",
       "      <td>28.0</td>\n",
       "      <td>24.64</td>\n",
       "    </tr>\n",
       "    <tr>\n",
       "      <th>2</th>\n",
       "      <td>2018-01-06 星期三</td>\n",
       "      <td>1.260283e+07</td>\n",
       "      <td>236701.0</td>\n",
       "      <td>感康</td>\n",
       "      <td>2.0</td>\n",
       "      <td>16.8</td>\n",
       "      <td>15.00</td>\n",
       "    </tr>\n",
       "    <tr>\n",
       "      <th>3</th>\n",
       "      <td>2018-01-11 星期一</td>\n",
       "      <td>1.007034e+10</td>\n",
       "      <td>236701.0</td>\n",
       "      <td>三九感冒灵</td>\n",
       "      <td>1.0</td>\n",
       "      <td>28.0</td>\n",
       "      <td>28.00</td>\n",
       "    </tr>\n",
       "    <tr>\n",
       "      <th>4</th>\n",
       "      <td>2018-01-15 星期五</td>\n",
       "      <td>1.015543e+08</td>\n",
       "      <td>236701.0</td>\n",
       "      <td>三九感冒灵</td>\n",
       "      <td>8.0</td>\n",
       "      <td>224.0</td>\n",
       "      <td>208.00</td>\n",
       "    </tr>\n",
       "  </tbody>\n",
       "</table>\n",
       "</div>"
      ],
      "text/plain": [
       "             购药时间          社保卡号      商品编码     商品名称  销售数量   应收金额    实收金额\n",
       "0  2018-01-01 星期五  1.616528e+06  236701.0  强力VC银翘片   6.0   82.8   69.00\n",
       "1  2018-01-02 星期六  1.616528e+06  236701.0  清热解毒口服液   1.0   28.0   24.64\n",
       "2  2018-01-06 星期三  1.260283e+07  236701.0       感康   2.0   16.8   15.00\n",
       "3  2018-01-11 星期一  1.007034e+10  236701.0    三九感冒灵   1.0   28.0   28.00\n",
       "4  2018-01-15 星期五  1.015543e+08  236701.0    三九感冒灵   8.0  224.0  208.00"
      ]
     },
     "execution_count": 6,
     "metadata": {},
     "output_type": "execute_result"
    }
   ],
   "source": [
    "# 查看前五条数据\n",
    "df.head()"
   ]
  },
  {
   "cell_type": "code",
   "execution_count": 17,
   "metadata": {},
   "outputs": [
    {
     "data": {
      "text/plain": [
       "(6509, 9)"
      ]
     },
     "execution_count": 17,
     "metadata": {},
     "output_type": "execute_result"
    }
   ],
   "source": [
    "# 查看数据量\n",
    "df.shape"
   ]
  },
  {
   "cell_type": "code",
   "execution_count": 8,
   "metadata": {},
   "outputs": [
    {
     "name": "stdout",
     "output_type": "stream",
     "text": [
      "<class 'pandas.core.frame.DataFrame'>\n",
      "RangeIndex: 6578 entries, 0 to 6577\n",
      "Data columns (total 7 columns):\n",
      " #   Column  Non-Null Count  Dtype  \n",
      "---  ------  --------------  -----  \n",
      " 0   购药时间    6576 non-null   object \n",
      " 1   社保卡号    6576 non-null   float64\n",
      " 2   商品编码    6577 non-null   float64\n",
      " 3   商品名称    6577 non-null   object \n",
      " 4   销售数量    6577 non-null   float64\n",
      " 5   应收金额    6577 non-null   float64\n",
      " 6   实收金额    6577 non-null   float64\n",
      "dtypes: float64(5), object(2)\n",
      "memory usage: 359.9+ KB\n"
     ]
    }
   ],
   "source": [
    "# 表结构\n",
    "df.info()"
   ]
  },
  {
   "cell_type": "code",
   "execution_count": 9,
   "metadata": {},
   "outputs": [
    {
     "data": {
      "text/html": [
       "<div>\n",
       "<style scoped>\n",
       "    .dataframe tbody tr th:only-of-type {\n",
       "        vertical-align: middle;\n",
       "    }\n",
       "\n",
       "    .dataframe tbody tr th {\n",
       "        vertical-align: top;\n",
       "    }\n",
       "\n",
       "    .dataframe thead th {\n",
       "        text-align: right;\n",
       "    }\n",
       "</style>\n",
       "<table border=\"1\" class=\"dataframe\">\n",
       "  <thead>\n",
       "    <tr style=\"text-align: right;\">\n",
       "      <th></th>\n",
       "      <th>缺失值数量</th>\n",
       "    </tr>\n",
       "  </thead>\n",
       "  <tbody>\n",
       "    <tr>\n",
       "      <th>购药时间</th>\n",
       "      <td>2</td>\n",
       "    </tr>\n",
       "    <tr>\n",
       "      <th>社保卡号</th>\n",
       "      <td>2</td>\n",
       "    </tr>\n",
       "    <tr>\n",
       "      <th>商品编码</th>\n",
       "      <td>1</td>\n",
       "    </tr>\n",
       "    <tr>\n",
       "      <th>商品名称</th>\n",
       "      <td>1</td>\n",
       "    </tr>\n",
       "    <tr>\n",
       "      <th>销售数量</th>\n",
       "      <td>1</td>\n",
       "    </tr>\n",
       "    <tr>\n",
       "      <th>应收金额</th>\n",
       "      <td>1</td>\n",
       "    </tr>\n",
       "    <tr>\n",
       "      <th>实收金额</th>\n",
       "      <td>1</td>\n",
       "    </tr>\n",
       "  </tbody>\n",
       "</table>\n",
       "</div>"
      ],
      "text/plain": [
       "      缺失值数量\n",
       "购药时间      2\n",
       "社保卡号      2\n",
       "商品编码      1\n",
       "商品名称      1\n",
       "销售数量      1\n",
       "应收金额      1\n",
       "实收金额      1"
      ]
     },
     "execution_count": 9,
     "metadata": {},
     "output_type": "execute_result"
    }
   ],
   "source": [
    "# 查看缺失值数量\n",
    "pd.DataFrame(df.isnull().sum(), columns=[\"缺失值数量\"])"
   ]
  },
  {
   "cell_type": "markdown",
   "metadata": {},
   "source": [
    "## 2. 数据清洗"
   ]
  },
  {
   "cell_type": "code",
   "execution_count": 10,
   "metadata": {},
   "outputs": [
    {
     "name": "stdout",
     "output_type": "stream",
     "text": [
      "删除后的数据量： (6575, 7)\n"
     ]
    },
    {
     "data": {
      "text/html": [
       "<div>\n",
       "<style scoped>\n",
       "    .dataframe tbody tr th:only-of-type {\n",
       "        vertical-align: middle;\n",
       "    }\n",
       "\n",
       "    .dataframe tbody tr th {\n",
       "        vertical-align: top;\n",
       "    }\n",
       "\n",
       "    .dataframe thead th {\n",
       "        text-align: right;\n",
       "    }\n",
       "</style>\n",
       "<table border=\"1\" class=\"dataframe\">\n",
       "  <thead>\n",
       "    <tr style=\"text-align: right;\">\n",
       "      <th></th>\n",
       "      <th>缺失值数量</th>\n",
       "    </tr>\n",
       "  </thead>\n",
       "  <tbody>\n",
       "    <tr>\n",
       "      <th>购药时间</th>\n",
       "      <td>0</td>\n",
       "    </tr>\n",
       "    <tr>\n",
       "      <th>社保卡号</th>\n",
       "      <td>0</td>\n",
       "    </tr>\n",
       "    <tr>\n",
       "      <th>商品编码</th>\n",
       "      <td>0</td>\n",
       "    </tr>\n",
       "    <tr>\n",
       "      <th>商品名称</th>\n",
       "      <td>0</td>\n",
       "    </tr>\n",
       "    <tr>\n",
       "      <th>销售数量</th>\n",
       "      <td>0</td>\n",
       "    </tr>\n",
       "    <tr>\n",
       "      <th>应收金额</th>\n",
       "      <td>0</td>\n",
       "    </tr>\n",
       "    <tr>\n",
       "      <th>实收金额</th>\n",
       "      <td>0</td>\n",
       "    </tr>\n",
       "  </tbody>\n",
       "</table>\n",
       "</div>"
      ],
      "text/plain": [
       "      缺失值数量\n",
       "购药时间      0\n",
       "社保卡号      0\n",
       "商品编码      0\n",
       "商品名称      0\n",
       "销售数量      0\n",
       "应收金额      0\n",
       "实收金额      0"
      ]
     },
     "execution_count": 10,
     "metadata": {},
     "output_type": "execute_result"
    }
   ],
   "source": [
    "# 缺失值很少，直接删除\n",
    "df.dropna(how=\"any\", inplace=True)\n",
    "print(\"删除后的数据量：\",df.shape)\n",
    "pd.DataFrame(df.isnull().sum(), columns=[\"缺失值数量\"])"
   ]
  },
  {
   "cell_type": "code",
   "execution_count": 11,
   "metadata": {},
   "outputs": [
    {
     "data": {
      "text/html": [
       "<div>\n",
       "<style scoped>\n",
       "    .dataframe tbody tr th:only-of-type {\n",
       "        vertical-align: middle;\n",
       "    }\n",
       "\n",
       "    .dataframe tbody tr th {\n",
       "        vertical-align: top;\n",
       "    }\n",
       "\n",
       "    .dataframe thead th {\n",
       "        text-align: right;\n",
       "    }\n",
       "</style>\n",
       "<table border=\"1\" class=\"dataframe\">\n",
       "  <thead>\n",
       "    <tr style=\"text-align: right;\">\n",
       "      <th></th>\n",
       "      <th>购药时间</th>\n",
       "      <th>社保卡号</th>\n",
       "      <th>商品编码</th>\n",
       "      <th>商品名称</th>\n",
       "      <th>销售数量</th>\n",
       "      <th>应收金额</th>\n",
       "      <th>实收金额</th>\n",
       "    </tr>\n",
       "  </thead>\n",
       "  <tbody>\n",
       "    <tr>\n",
       "      <th>61</th>\n",
       "      <td>2018-05-02 星期一</td>\n",
       "      <td>1.161653e+07</td>\n",
       "      <td>236702.0</td>\n",
       "      <td>强力VC银翘片</td>\n",
       "      <td>-1.0</td>\n",
       "      <td>-13.8</td>\n",
       "      <td>-13.8</td>\n",
       "    </tr>\n",
       "    <tr>\n",
       "      <th>100</th>\n",
       "      <td>2018-06-19 星期日</td>\n",
       "      <td>1.148763e+07</td>\n",
       "      <td>236704.0</td>\n",
       "      <td>氨加黄敏胶囊</td>\n",
       "      <td>-1.0</td>\n",
       "      <td>-12.4</td>\n",
       "      <td>-11.0</td>\n",
       "    </tr>\n",
       "    <tr>\n",
       "      <th>201</th>\n",
       "      <td>2018-02-24 星期三</td>\n",
       "      <td>1.001256e+10</td>\n",
       "      <td>236706.0</td>\n",
       "      <td>阿司匹林</td>\n",
       "      <td>-2.0</td>\n",
       "      <td>-93.6</td>\n",
       "      <td>-84.0</td>\n",
       "    </tr>\n",
       "    <tr>\n",
       "      <th>271</th>\n",
       "      <td>2018-01-31 星期日</td>\n",
       "      <td>1.616528e+06</td>\n",
       "      <td>236709.0</td>\n",
       "      <td>心痛定</td>\n",
       "      <td>-1.0</td>\n",
       "      <td>-44.8</td>\n",
       "      <td>-39.8</td>\n",
       "    </tr>\n",
       "    <tr>\n",
       "      <th>439</th>\n",
       "      <td>2018-01-17 星期日</td>\n",
       "      <td>1.263213e+07</td>\n",
       "      <td>2367011.0</td>\n",
       "      <td>开博通</td>\n",
       "      <td>0.0</td>\n",
       "      <td>0.0</td>\n",
       "      <td>0.0</td>\n",
       "    </tr>\n",
       "  </tbody>\n",
       "</table>\n",
       "</div>"
      ],
      "text/plain": [
       "               购药时间          社保卡号       商品编码     商品名称  销售数量  应收金额  实收金额\n",
       "61   2018-05-02 星期一  1.161653e+07   236702.0  强力VC银翘片  -1.0 -13.8 -13.8\n",
       "100  2018-06-19 星期日  1.148763e+07   236704.0   氨加黄敏胶囊  -1.0 -12.4 -11.0\n",
       "201  2018-02-24 星期三  1.001256e+10   236706.0     阿司匹林  -2.0 -93.6 -84.0\n",
       "271  2018-01-31 星期日  1.616528e+06   236709.0      心痛定  -1.0 -44.8 -39.8\n",
       "439  2018-01-17 星期日  1.263213e+07  2367011.0      开博通   0.0   0.0   0.0"
      ]
     },
     "execution_count": 11,
     "metadata": {},
     "output_type": "execute_result"
    }
   ],
   "source": [
    "# 查找异常值\n",
    "df[df[\"销售数量\"] <= 0].head() # 销售数量为0或者为负数"
   ]
  },
  {
   "cell_type": "code",
   "execution_count": 12,
   "metadata": {},
   "outputs": [
    {
     "data": {
      "text/plain": [
       "(6532, 7)"
      ]
     },
     "execution_count": 12,
     "metadata": {},
     "output_type": "execute_result"
    }
   ],
   "source": [
    "# 删除异常值\n",
    "df.drop(df[df[\"销售数量\"] <= 0].index, inplace=True)\n",
    "# 查看数据量\n",
    "df.shape"
   ]
  },
  {
   "cell_type": "code",
   "execution_count": 13,
   "metadata": {},
   "outputs": [
    {
     "data": {
      "text/html": [
       "<div>\n",
       "<style scoped>\n",
       "    .dataframe tbody tr th:only-of-type {\n",
       "        vertical-align: middle;\n",
       "    }\n",
       "\n",
       "    .dataframe tbody tr th {\n",
       "        vertical-align: top;\n",
       "    }\n",
       "\n",
       "    .dataframe thead th {\n",
       "        text-align: right;\n",
       "    }\n",
       "</style>\n",
       "<table border=\"1\" class=\"dataframe\">\n",
       "  <thead>\n",
       "    <tr style=\"text-align: right;\">\n",
       "      <th></th>\n",
       "      <th>社保卡号</th>\n",
       "      <th>商品编码</th>\n",
       "      <th>商品名称</th>\n",
       "      <th>销售数量</th>\n",
       "      <th>应收金额</th>\n",
       "      <th>实收金额</th>\n",
       "      <th>日期</th>\n",
       "      <th>星期</th>\n",
       "    </tr>\n",
       "  </thead>\n",
       "  <tbody>\n",
       "    <tr>\n",
       "      <th>0</th>\n",
       "      <td>1.616528e+06</td>\n",
       "      <td>236701.0</td>\n",
       "      <td>强力VC银翘片</td>\n",
       "      <td>6.0</td>\n",
       "      <td>82.8</td>\n",
       "      <td>69.00</td>\n",
       "      <td>2018-01-01</td>\n",
       "      <td>星期五</td>\n",
       "    </tr>\n",
       "    <tr>\n",
       "      <th>1</th>\n",
       "      <td>1.616528e+06</td>\n",
       "      <td>236701.0</td>\n",
       "      <td>清热解毒口服液</td>\n",
       "      <td>1.0</td>\n",
       "      <td>28.0</td>\n",
       "      <td>24.64</td>\n",
       "      <td>2018-01-02</td>\n",
       "      <td>星期六</td>\n",
       "    </tr>\n",
       "    <tr>\n",
       "      <th>2</th>\n",
       "      <td>1.260283e+07</td>\n",
       "      <td>236701.0</td>\n",
       "      <td>感康</td>\n",
       "      <td>2.0</td>\n",
       "      <td>16.8</td>\n",
       "      <td>15.00</td>\n",
       "      <td>2018-01-06</td>\n",
       "      <td>星期三</td>\n",
       "    </tr>\n",
       "    <tr>\n",
       "      <th>3</th>\n",
       "      <td>1.007034e+10</td>\n",
       "      <td>236701.0</td>\n",
       "      <td>三九感冒灵</td>\n",
       "      <td>1.0</td>\n",
       "      <td>28.0</td>\n",
       "      <td>28.00</td>\n",
       "      <td>2018-01-11</td>\n",
       "      <td>星期一</td>\n",
       "    </tr>\n",
       "    <tr>\n",
       "      <th>4</th>\n",
       "      <td>1.015543e+08</td>\n",
       "      <td>236701.0</td>\n",
       "      <td>三九感冒灵</td>\n",
       "      <td>8.0</td>\n",
       "      <td>224.0</td>\n",
       "      <td>208.00</td>\n",
       "      <td>2018-01-15</td>\n",
       "      <td>星期五</td>\n",
       "    </tr>\n",
       "    <tr>\n",
       "      <th>...</th>\n",
       "      <td>...</td>\n",
       "      <td>...</td>\n",
       "      <td>...</td>\n",
       "      <td>...</td>\n",
       "      <td>...</td>\n",
       "      <td>...</td>\n",
       "      <td>...</td>\n",
       "      <td>...</td>\n",
       "    </tr>\n",
       "    <tr>\n",
       "      <th>6572</th>\n",
       "      <td>1.006048e+10</td>\n",
       "      <td>2367011.0</td>\n",
       "      <td>高特灵</td>\n",
       "      <td>1.0</td>\n",
       "      <td>5.6</td>\n",
       "      <td>5.00</td>\n",
       "      <td>2018-04-27</td>\n",
       "      <td>星期三</td>\n",
       "    </tr>\n",
       "    <tr>\n",
       "      <th>6573</th>\n",
       "      <td>1.078861e+08</td>\n",
       "      <td>2367011.0</td>\n",
       "      <td>高特灵</td>\n",
       "      <td>10.0</td>\n",
       "      <td>56.0</td>\n",
       "      <td>54.80</td>\n",
       "      <td>2018-04-27</td>\n",
       "      <td>星期三</td>\n",
       "    </tr>\n",
       "    <tr>\n",
       "      <th>6575</th>\n",
       "      <td>1.008787e+10</td>\n",
       "      <td>2367011.0</td>\n",
       "      <td>高特灵</td>\n",
       "      <td>2.0</td>\n",
       "      <td>11.2</td>\n",
       "      <td>9.86</td>\n",
       "      <td>2018-04-27</td>\n",
       "      <td>星期三</td>\n",
       "    </tr>\n",
       "    <tr>\n",
       "      <th>6576</th>\n",
       "      <td>1.340663e+07</td>\n",
       "      <td>2367011.0</td>\n",
       "      <td>高特灵</td>\n",
       "      <td>1.0</td>\n",
       "      <td>5.6</td>\n",
       "      <td>5.00</td>\n",
       "      <td>2018-04-27</td>\n",
       "      <td>星期三</td>\n",
       "    </tr>\n",
       "    <tr>\n",
       "      <th>6577</th>\n",
       "      <td>1.192693e+07</td>\n",
       "      <td>2367011.0</td>\n",
       "      <td>高特灵</td>\n",
       "      <td>2.0</td>\n",
       "      <td>11.2</td>\n",
       "      <td>10.00</td>\n",
       "      <td>2018-04-28</td>\n",
       "      <td>星期四</td>\n",
       "    </tr>\n",
       "  </tbody>\n",
       "</table>\n",
       "<p>6532 rows × 8 columns</p>\n",
       "</div>"
      ],
      "text/plain": [
       "              社保卡号       商品编码     商品名称  销售数量   应收金额    实收金额          日期   星期\n",
       "0     1.616528e+06   236701.0  强力VC银翘片   6.0   82.8   69.00  2018-01-01  星期五\n",
       "1     1.616528e+06   236701.0  清热解毒口服液   1.0   28.0   24.64  2018-01-02  星期六\n",
       "2     1.260283e+07   236701.0       感康   2.0   16.8   15.00  2018-01-06  星期三\n",
       "3     1.007034e+10   236701.0    三九感冒灵   1.0   28.0   28.00  2018-01-11  星期一\n",
       "4     1.015543e+08   236701.0    三九感冒灵   8.0  224.0  208.00  2018-01-15  星期五\n",
       "...            ...        ...      ...   ...    ...     ...         ...  ...\n",
       "6572  1.006048e+10  2367011.0      高特灵   1.0    5.6    5.00  2018-04-27  星期三\n",
       "6573  1.078861e+08  2367011.0      高特灵  10.0   56.0   54.80  2018-04-27  星期三\n",
       "6575  1.008787e+10  2367011.0      高特灵   2.0   11.2    9.86  2018-04-27  星期三\n",
       "6576  1.340663e+07  2367011.0      高特灵   1.0    5.6    5.00  2018-04-27  星期三\n",
       "6577  1.192693e+07  2367011.0      高特灵   2.0   11.2   10.00  2018-04-28  星期四\n",
       "\n",
       "[6532 rows x 8 columns]"
      ]
     },
     "execution_count": 13,
     "metadata": {},
     "output_type": "execute_result"
    }
   ],
   "source": [
    "# 把购药时间分成日期和星期两个字段\n",
    "df[[\"日期\",\"星期\"]] = df[\"购药时间\"].str.split(\" \",expand=True)\n",
    "\n",
    "# 删除原来的\"购药时间\"和\"社保卡号\"\n",
    "df.drop(\"购药时间\", axis=1)"
   ]
  },
  {
   "cell_type": "code",
   "execution_count": 14,
   "metadata": {},
   "outputs": [
    {
     "name": "stdout",
     "output_type": "stream",
     "text": [
      "<class 'pandas.core.frame.DataFrame'>\n",
      "Int64Index: 6509 entries, 0 to 6577\n",
      "Data columns (total 9 columns):\n",
      " #   Column  Non-Null Count  Dtype         \n",
      "---  ------  --------------  -----         \n",
      " 0   购药时间    6509 non-null   object        \n",
      " 1   社保卡号    6509 non-null   float64       \n",
      " 2   商品编码    6509 non-null   float64       \n",
      " 3   商品名称    6509 non-null   object        \n",
      " 4   销售数量    6509 non-null   float64       \n",
      " 5   应收金额    6509 non-null   float64       \n",
      " 6   实收金额    6509 non-null   float64       \n",
      " 7   日期      6509 non-null   datetime64[ns]\n",
      " 8   星期      6509 non-null   object        \n",
      "dtypes: datetime64[ns](1), float64(5), object(3)\n",
      "memory usage: 508.5+ KB\n"
     ]
    }
   ],
   "source": [
    "# 转换日期格式，格式有问题的转换为naT格式\n",
    "df[\"日期\"]= pd.to_datetime(df[\"日期\"],format='%Y-%m-%d',errors='coerce')\n",
    "# 删除转换后naT空值\n",
    "df = df.dropna()\n",
    "\n",
    "df.info()"
   ]
  },
  {
   "cell_type": "code",
   "execution_count": 18,
   "metadata": {},
   "outputs": [
    {
     "data": {
      "text/html": [
       "<div>\n",
       "<style scoped>\n",
       "    .dataframe tbody tr th:only-of-type {\n",
       "        vertical-align: middle;\n",
       "    }\n",
       "\n",
       "    .dataframe tbody tr th {\n",
       "        vertical-align: top;\n",
       "    }\n",
       "\n",
       "    .dataframe thead th {\n",
       "        text-align: right;\n",
       "    }\n",
       "</style>\n",
       "<table border=\"1\" class=\"dataframe\">\n",
       "  <thead>\n",
       "    <tr style=\"text-align: right;\">\n",
       "      <th></th>\n",
       "      <th>社保卡号</th>\n",
       "      <th>商品编码</th>\n",
       "      <th>销售数量</th>\n",
       "      <th>应收金额</th>\n",
       "      <th>实收金额</th>\n",
       "    </tr>\n",
       "  </thead>\n",
       "  <tbody>\n",
       "    <tr>\n",
       "      <th>count</th>\n",
       "      <td>6.509000e+03</td>\n",
       "      <td>6.509000e+03</td>\n",
       "      <td>6509.000000</td>\n",
       "      <td>6509.000000</td>\n",
       "      <td>6509.000000</td>\n",
       "    </tr>\n",
       "    <tr>\n",
       "      <th>mean</th>\n",
       "      <td>6.088969e+09</td>\n",
       "      <td>1.015717e+06</td>\n",
       "      <td>2.405285</td>\n",
       "      <td>50.908726</td>\n",
       "      <td>46.709935</td>\n",
       "    </tr>\n",
       "    <tr>\n",
       "      <th>std</th>\n",
       "      <td>4.889663e+09</td>\n",
       "      <td>5.123392e+05</td>\n",
       "      <td>2.364095</td>\n",
       "      <td>87.634645</td>\n",
       "      <td>80.983274</td>\n",
       "    </tr>\n",
       "    <tr>\n",
       "      <th>min</th>\n",
       "      <td>1.616528e+06</td>\n",
       "      <td>2.367010e+05</td>\n",
       "      <td>1.000000</td>\n",
       "      <td>1.200000</td>\n",
       "      <td>0.030000</td>\n",
       "    </tr>\n",
       "    <tr>\n",
       "      <th>25%</th>\n",
       "      <td>1.014234e+08</td>\n",
       "      <td>8.614560e+05</td>\n",
       "      <td>1.000000</td>\n",
       "      <td>14.000000</td>\n",
       "      <td>12.600000</td>\n",
       "    </tr>\n",
       "    <tr>\n",
       "      <th>50%</th>\n",
       "      <td>1.001650e+10</td>\n",
       "      <td>8.615070e+05</td>\n",
       "      <td>2.000000</td>\n",
       "      <td>28.000000</td>\n",
       "      <td>27.000000</td>\n",
       "    </tr>\n",
       "    <tr>\n",
       "      <th>75%</th>\n",
       "      <td>1.004859e+10</td>\n",
       "      <td>8.687840e+05</td>\n",
       "      <td>2.000000</td>\n",
       "      <td>59.600000</td>\n",
       "      <td>53.000000</td>\n",
       "    </tr>\n",
       "    <tr>\n",
       "      <th>max</th>\n",
       "      <td>1.283612e+10</td>\n",
       "      <td>2.367012e+06</td>\n",
       "      <td>50.000000</td>\n",
       "      <td>2950.000000</td>\n",
       "      <td>2650.000000</td>\n",
       "    </tr>\n",
       "  </tbody>\n",
       "</table>\n",
       "</div>"
      ],
      "text/plain": [
       "               社保卡号          商品编码         销售数量         应收金额         实收金额\n",
       "count  6.509000e+03  6.509000e+03  6509.000000  6509.000000  6509.000000\n",
       "mean   6.088969e+09  1.015717e+06     2.405285    50.908726    46.709935\n",
       "std    4.889663e+09  5.123392e+05     2.364095    87.634645    80.983274\n",
       "min    1.616528e+06  2.367010e+05     1.000000     1.200000     0.030000\n",
       "25%    1.014234e+08  8.614560e+05     1.000000    14.000000    12.600000\n",
       "50%    1.001650e+10  8.615070e+05     2.000000    28.000000    27.000000\n",
       "75%    1.004859e+10  8.687840e+05     2.000000    59.600000    53.000000\n",
       "max    1.283612e+10  2.367012e+06    50.000000  2950.000000  2650.000000"
      ]
     },
     "execution_count": 18,
     "metadata": {},
     "output_type": "execute_result"
    }
   ],
   "source": [
    "# 描述性分析\n",
    "df.describe()"
   ]
  },
  {
   "cell_type": "markdown",
   "metadata": {},
   "source": [
    "### 3. 数据分析"
   ]
  },
  {
   "cell_type": "markdown",
   "metadata": {},
   "source": [
    "#### 3.1 客单价"
   ]
  },
  {
   "cell_type": "code",
   "execution_count": 32,
   "metadata": {
    "scrolled": true
   },
   "outputs": [
    {
     "name": "stdout",
     "output_type": "stream",
     "text": [
      "客单价 = 56.88 元\n"
     ]
    }
   ],
   "source": [
    "# 客单价 = 总消费金额 / 总消费次数\n",
    "# 计算总消费次数（每日相同社保卡号算一次）\n",
    "con_num = df.drop_duplicates(subset=['日期', '社保卡号'],keep='first',inplace=False)[\"社保卡号\"].count()\n",
    "\n",
    "# 总消费金额\n",
    "sum_mon = df[\"实收金额\"].sum()\n",
    "\n",
    "print(\"客单价 =\", round(sum_mon/con_num, 2), \"元\")"
   ]
  },
  {
   "cell_type": "markdown",
   "metadata": {},
   "source": [
    "#### 3.2销售趋势"
   ]
  },
  {
   "cell_type": "code",
   "execution_count": 112,
   "metadata": {},
   "outputs": [
    {
     "name": "stdout",
     "output_type": "stream",
     "text": [
      "month\n",
      "1     845\n",
      "2     602\n",
      "3     823\n",
      "4    1044\n",
      "5     771\n",
      "6     750\n",
      "7     510\n",
      "Name: 社保卡号, dtype: int64 month\n",
      "1    49461.19\n",
      "2    38790.38\n",
      "3    41597.51\n",
      "4    48812.70\n",
      "5    46925.27\n",
      "6    48327.70\n",
      "7    30120.22\n",
      "Name: 实收金额, dtype: float64\n"
     ]
    },
    {
     "name": "stderr",
     "output_type": "stream",
     "text": [
      "c:\\users\\taota\\appdata\\local\\programs\\python\\python37\\lib\\site-packages\\ipykernel_launcher.py:22: MatplotlibDeprecationWarning: Adding an axes using the same arguments as a previous axes currently reuses the earlier instance.  In a future version, a new instance will always be created and returned.  Meanwhile, this warning can be suppressed, and the future behavior ensured, by passing a unique label to each axes instance.\n"
     ]
    },
    {
     "data": {
      "image/png": "[encoded data removed]",
      "text/plain": [
       "<Figure size 1000x500 with 2 Axes>"
      ]
     },
     "metadata": {
      "needs_background": "light"
     },
     "output_type": "display_data"
    }
   ],
   "source": [
    "# 添加一列月份\n",
    "df['month'] = pd.DatetimeIndex(df['日期']).month\n",
    "\n",
    "# 月消费次数\n",
    "mon_num = df.drop_duplicates(subset=['日期', '社保卡号']).groupby(\"month\")[\"社保卡号\"].count()\n",
    "\n",
    "# 月消费金额\n",
    "mon_mon = df.groupby(\"month\")[\"实收金额\"].sum()\n",
    "print(mon_num,mon_mon)\n",
    "\n",
    "# 画图\n",
    "\n",
    "# 只有1-7月的数据\n",
    "_x = list(range(1,8))\n",
    "\n",
    "mon_y = list(mon_mon.values)\n",
    "num_y = list(mon_num.values)\n",
    "\n",
    "fig = plt.figure(figsize=(10,5), dpi=100)\n",
    "plt.title(\"销售趋势\", fontproperties=my_font)\n",
    "\n",
    "ax1 = fig.add_subplot(111)  \n",
    "ax1.bar(_x,mon_y, label=\"月销售额\")\n",
    "ax1.set_ylim(0,80000)\n",
    "ax1.set_ylabel(\"月销售额\", fontproperties=my_font)\n",
    "ax1.legend(loc=\"upper left\", prop=my_font)\n",
    "\n",
    "ax2 = ax1.twinx()\n",
    "ax2.plot(_x, num_y, label=\"月消费次数\")\n",
    "ax2.set_ylim(0,1150)\n",
    "ax2.set_ylabel(\"月消费次数\", fontproperties=my_font)\n",
    "ax2.legend(loc=\"upper right\", prop=my_font)\n",
    "\n",
    "plt.show()"
   ]
  },
  {
   "cell_type": "markdown",
   "metadata": {},
   "source": [
    "#### 3.3药品销量前10"
   ]
  },
  {
   "cell_type": "code",
   "execution_count": 117,
   "metadata": {},
   "outputs": [
    {
     "name": "stdout",
     "output_type": "stream",
     "text": [
      "商品名称\n",
      "苯磺酸氨氯地平片(安内真)        1781.0\n",
      "开博通                  1440.0\n",
      "酒石酸美托洛尔片(倍他乐克)       1140.0\n",
      "硝苯地平片(心痛定)            825.0\n",
      "苯磺酸氨氯地平片(络活喜)         796.0\n",
      "复方利血平片(复方降压片)         515.0\n",
      "G琥珀酸美托洛尔缓释片(倍他乐克)     509.0\n",
      "缬沙坦胶囊(代文)             445.0\n",
      "非洛地平缓释片(波依定)          375.0\n",
      "高特灵                   371.0\n",
      "Name: 销售数量, dtype: float64\n"
     ]
    },
    {
     "data": {
      "image/png": "[encoded data removed]",
      "text/plain": [
       "<Figure size 1000x500 with 1 Axes>"
      ]
     },
     "metadata": {
      "needs_background": "light"
     },
     "output_type": "display_data"
    }
   ],
   "source": [
    "top_10 = df.groupby(\"商品名称\")[\"销售数量\"].sum().sort_values(ascending=False).head(10)\n",
    "print(top_10)\n",
    "\n",
    "# 画图\n",
    "plt.figure(figsize=(10,5), dpi=100)\n",
    "plt.title(\"药品销售量前十\", fontproperties=my_font)\n",
    "\n",
    "_x = list(range(10))\n",
    "_y = list(top_10.values)\n",
    "\n",
    "plt.bar(_x,_y)\n",
    "\n",
    "plt.xticks(_x, list(top_10.index), fontproperties=my_font, rotation=90)\n",
    "plt.ylabel(\"月销售数量\", fontproperties=my_font)\n",
    "\n",
    "plt.show()"
   ]
  },
  {
   "cell_type": "markdown",
   "metadata": {},
   "source": [
    "#### 3.4一周内销量变化趋势"
   ]
  },
  {
   "cell_type": "code",
   "execution_count": 138,
   "metadata": {},
   "outputs": [
    {
     "name": "stdout",
     "output_type": "stream",
     "text": [
      "星期\n",
      "星期一    38931.79\n",
      "星期三    39073.64\n",
      "星期二    44534.63\n",
      "星期五    49817.87\n",
      "星期六    47834.33\n",
      "星期四    40310.08\n",
      "星期日    43532.63\n",
      "Name: 实收金额, dtype: float64\n"
     ]
    },
    {
     "data": {
      "image/png": "[encoded data removed]",
      "text/plain": [
       "<Figure size 1000x500 with 1 Axes>"
      ]
     },
     "metadata": {
      "needs_background": "light"
     },
     "output_type": "display_data"
    }
   ],
   "source": [
    "week_money =  df.groupby(\"星期\")[\"实收金额\"].sum()\n",
    "print(week_money)\n",
    "\n",
    "# 画图\n",
    "plt.figure(figsize=(10,5), dpi=100)\n",
    "plt.title(\"一周内销售金额变化趋势\", fontproperties=my_font)\n",
    "\n",
    "\n",
    "_x = list(range(7))\n",
    "week = [\"星期一\",\"星期二\",\"星期三\",\"星期四\",\"星期五\",\"星期六\",\"星期日\",]\n",
    "_y = []\n",
    "for i in week:\n",
    "    _y.append(week_money.loc[i])\n",
    "\n",
    "plt.bar(_x,_y)\n",
    "plt.ylim(30000,55000)\n",
    "\n",
    "plt.xticks(_x, week, fontproperties=my_font)\n",
    "plt.ylabel(\"销售金额\", fontproperties=my_font)\n",
    "\n",
    "plt.show()"
   ]
  }
 ],
 "metadata": {
  "kernelspec": {
   "display_name": "Python 3",
   "language": "python",
   "name": "python3"
  },
  "language_info": {
   "codemirror_mode": {
    "name": "ipython",
    "version": 3
   },
   "file_extension": ".py",
   "mimetype": "text/x-python",
   "name": "python",
   "nbconvert_exporter": "python",
   "pygments_lexer": "ipython3",
   "version": "3.7.4"
  }
 },
 "nbformat": 4,
 "nbformat_minor": 4
}
